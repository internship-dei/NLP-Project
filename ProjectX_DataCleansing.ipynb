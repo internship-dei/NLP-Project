{
  "nbformat": 4,
  "nbformat_minor": 0,
  "metadata": {
    "colab": {
      "name": "Bhavya_DataCleansing.ipynb",
      "provenance": [],
      "collapsed_sections": []
    },
    "kernelspec": {
      "name": "python3",
      "display_name": "Python 3"
    },
    "language_info": {
      "name": "python"
    }
  },
  "cells": [
    {
      "cell_type": "markdown",
      "metadata": {
        "id": "KnS-DN1kbtjv"
      },
      "source": [
        "##Importing the required libraries"
      ]
    },
    {
      "cell_type": "code",
      "metadata": {
        "id": "cP2Cfhn_Aazx"
      },
      "source": [
        "import nltk\n",
        "nltk.download('stopwords')\n",
        "from spacy.lang.en import English\n",
        "from spacy.lang.en.stop_words import STOP_WORDS\n",
        "import re\n",
        "import numpy as np\n",
        "import pandas as pd\n",
        "from pprint import pprint\n",
        "\n",
        "# Gensim\n",
        "import gensim\n",
        "import gensim.corpora as corpora\n",
        "from gensim.utils import simple_preprocess\n",
        "from gensim.models import CoherenceModel\n",
        "\n",
        "# spacy for lemmatization\n",
        "import spacy\n",
        "\n",
        "# Plotting tools\n",
        "#import pyLDAvis\n",
        "#import pyLDAvis.gensim  # don't skip this\n",
        "!pip install pyLDAvis\n",
        "\n",
        "import pyLDAvis\n",
        "import pyLDAvis.gensim_models\n",
        "\n",
        "pyLDAvis.enable_notebook()\n",
        "#vis = pyLDAvis.gensim_models.prepare(ldamodel, doc_term_matrix, dictionary)\n",
        "\n",
        "import matplotlib.pyplot as plt\n",
        "%matplotlib inline\n",
        "\n",
        "# Enable logging for gensim - optional\n",
        "import logging\n",
        "logging.basicConfig(format='%(asctime)s : %(levelname)s : %(message)s', level=logging.ERROR)\n",
        "\n",
        "import warnings\n",
        "warnings.filterwarnings(\"ignore\",category=DeprecationWarning)\n",
        "import nltk\n",
        "nltk.download('all')"
      ],
      "execution_count": null,
      "outputs": []
    },
    {
      "cell_type": "markdown",
      "metadata": {
        "id": "sL5QXBHUb2_3"
      },
      "source": [
        "##Uploading the json files"
      ]
    },
    {
      "cell_type": "code",
      "metadata": {
        "colab": {
          "resources": {
            "http://localhost:8080/nbextensions/google.colab/files.js": {
              "data": "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",
              "ok": true,
              "headers": [
                [
                  "content-type",
                  "application/javascript"
                ]
              ],
              "status": 200,
              "status_text": ""
            }
          },
          "base_uri": "https://localhost:8080/",
          "height": 378
        },
        "id": "K-e4b8vSx0UW",
        "outputId": "4c0137ac-d9c3-4318-ee39-4f77cf85c1f0"
      },
      "source": [
        "import json \n",
        "import numpy as np\n",
        "import csv \n",
        "from google.colab import files\n",
        "uploaded = files.upload()"
      ],
      "execution_count": 2,
      "outputs": [
        {
          "output_type": "display_data",
          "data": {
            "text/html": [
              "\n",
              "     <input type=\"file\" id=\"files-dcc8731f-f9e8-4ac0-bc9f-2ff5a4e54305\" name=\"files[]\" multiple disabled\n",
              "        style=\"border:none\" />\n",
              "     <output id=\"result-dcc8731f-f9e8-4ac0-bc9f-2ff5a4e54305\">\n",
              "      Upload widget is only available when the cell has been executed in the\n",
              "      current browser session. Please rerun this cell to enable.\n",
              "      </output>\n",
              "      <script src=\"/nbextensions/google.colab/files.js\"></script> "
            ],
            "text/plain": [
              "<IPython.core.display.HTML object>"
            ]
          },
          "metadata": {
            "tags": []
          }
        },
        {
          "output_type": "stream",
          "text": [
            "Saving thehindu_jan_1_file_2.json to thehindu_jan_1_file_2.json\n",
            "Saving thehindu_jan_1_file_3.json to thehindu_jan_1_file_3.json\n",
            "Saving thehindu_jan_1_file_4.json to thehindu_jan_1_file_4.json\n",
            "Saving thehindu_jan_1_file_6.json to thehindu_jan_1_file_6.json\n",
            "Saving thehindu_jan_1_file_7.json to thehindu_jan_1_file_7.json\n",
            "Saving thehindu_jan_1_file_9.json to thehindu_jan_1_file_9.json\n",
            "Saving thehindu_jan_1_file_10.json to thehindu_jan_1_file_10.json\n",
            "Saving thehindu_jan_1_file_11.json to thehindu_jan_1_file_11.json\n",
            "Saving thehindu_jan_1_file_12.json to thehindu_jan_1_file_12.json\n",
            "Saving thehindu_jan_1_file_13.json to thehindu_jan_1_file_13.json\n"
          ],
          "name": "stdout"
        }
      ]
    },
    {
      "cell_type": "code",
      "metadata": {
        "colab": {
          "base_uri": "https://localhost:8080/"
        },
        "id": "L9Ifx4wUyaVc",
        "outputId": "1d9bf0ac-dfe9-4d8f-9057-8fea869a63e9"
      },
      "source": [
        "#Creating a list of names of all the json files \n",
        "\n",
        "name_list = []\n",
        "\n",
        "def getList(dict):\n",
        "    return list(dict.keys())\n",
        "\n",
        "name_list = getList(uploaded)\n",
        "name_list"
      ],
      "execution_count": 3,
      "outputs": [
        {
          "output_type": "execute_result",
          "data": {
            "text/plain": [
              "['thehindu_jan_1_file_2.json',\n",
              " 'thehindu_jan_1_file_3.json',\n",
              " 'thehindu_jan_1_file_4.json',\n",
              " 'thehindu_jan_1_file_6.json',\n",
              " 'thehindu_jan_1_file_7.json',\n",
              " 'thehindu_jan_1_file_9.json',\n",
              " 'thehindu_jan_1_file_10.json',\n",
              " 'thehindu_jan_1_file_11.json',\n",
              " 'thehindu_jan_1_file_12.json',\n",
              " 'thehindu_jan_1_file_13.json']"
            ]
          },
          "metadata": {
            "tags": []
          },
          "execution_count": 3
        }
      ]
    },
    {
      "cell_type": "code",
      "metadata": {
        "colab": {
          "base_uri": "https://localhost:8080/"
        },
        "id": "Xr3RVxVe1SDJ",
        "outputId": "7a30e430-d768-4cce-c8a8-1010cc0b7213"
      },
      "source": [
        "#Extracting data from the json files\n",
        "\n",
        "data_list=[]\n",
        "for i in name_list:\n",
        "  data_list.append(uploaded[i].decode(\"utf-8\"))\n",
        "data_list"
      ],
      "execution_count": 4,
      "outputs": [
        {
          "output_type": "execute_result",
          "data": {
            "text/plain": [
              "['{\"Text\": \"\\\\nNBA | Wall makes Rockets debut in win over Kings\\\\n\\\\nRaptors ends worst start to season in 15 years with defeat of New York Knicks\\\\n\\\\nBack with a bang: Houston Rockets guard John Wall made his return to action count against Sacramento Kings.\\\\n\\\\u00a0 | Photo Credit: Richard Carson James Harden scored a game high 33 points and John Wall finished with a double-double in his first game since 2018 as Houston Rockets beat Sacramento Kings 122-119 on Thursday.Wall tallied 22 points and nine assists for the Rockets, who were also playing their first game with DeMarcus Cousins and Eric Gordon. Wall was acquired from Washington Wizards for Russell Westbrook.Harden sank two free-throws late in the game as the Rockets held on for the win. Kings had a chance to tie it but missed two threes in the final seconds in front of a crowd of 3,200 in Texas.Harden also had eight assists and six rebounds in the first game of a two-game set with the Kings. Elsewhere, Joel Embiid delivered 21 points and nine rebounds as Philadelphia 76ers sank 15 three-pointers to hand Orlando Magic its first loss of the new season with a 116-92 win.Embiid scored all his points in just three quarters for the Sixers who sank eight of their first 12 attempts from three-point range in front of 3,000 fans at the Amway Center in Orlando.Elsewhere, Toronto Raptors posted its first win of the season, putting a halt to a worst start in 15 years. The results: Indiana Pacers 119 bt Cleveland Cavaliers 99; Washington Wizards 130 lost to Chicago Bulls 133; Orlando Magic lost to Philadelphia 76ers 116-92; Houston Rockets bt Sacramento Kings 122-119; Toronto Raptors bt New York Knicks 100-83.\\\\nPrintable version | Jul 25, 2021 9:39:24 PM | https://www.thehindu.com/sport/other-sports/nba-wall-makes-rockets-debut-in-win-over-kings/article33475123.ece\\\\n\"}',\n",
              " '{\"Text\": \"\\\\nDecisive, Glorious Land, King T\\\\u2019Chala and Cape Cod work well  Decisive, Glorious Land, King T\\\\u2019Chala and Cape Cod worked well when the horses were exercised here on Friday (January 1)600m: Fashion Of Stars (App), Sovereign Power (App) 45. They were easy. Romantic Bay (K.V. Baskar) 46. 800m: First Empress (rb), Andromeda Sky (app) 1-0, 600/45. They finished together.1000m: Tifosi (rb) 1-12.5, 800/58, 600/45. Maintains form. Silverman (Ayaz Khan), Hadar (A.M. Alam) 1-11, 800/56, 600/43.5. Latter moved better and finished in front. Merrywin (rb), Cape Cod (N. Murugan) 1-10, 800/56, 600/42. Latter impressed. Naomi (Azad Alam), Green Channel (App) 1-16.5, 800/1-1.5, 600/47. Kingoftheworld (N. Murugan) 1-13.5. Fully eased up. Glorious Land (A.M. Alam) 1-10, 800/55.5, 600/43. In fine nick. King T\\\\u2019Chala (Azfar Syeed) 1-11.5, 800/56, 600/43. Moved well. Amendment (rb), Annexed (Iltaf Hussain) 1-15.5, 800/1-0.5, 600/45.5. They moved freely. Knight Envied (rb), Emelda (rb) 1-14, 800/59, 600/45. They are in good shape. Decisive (Shahar Babu) 1-8.5, 800/54.5, 600/41.5. Pleased. Wild Passion (App) 1-16, 800/1-1, 600/46. Optimus Commander (Janardhan P), Maidstone (Kamigallu) 1-15, 800/1-0, 600/45. Supreme Excelsior (rb), Battista (Rajendra Singh) 1-14, 800/59, 600/44. They moved on the bit. Exquisite Star (rb), Prince Of Windsor (App) 1-15, 800/59, 600/43. Former easily finished two lengths ahead.Mock race: 1400m: Mzilikazi (Nakhat Singh), Nekhbet (Rajendra Singh), Towns End (Azfar Syeed), Talan (Farhan) 1-27.98s. Mzilikazi and Nekhbet impressed.\\\\nPrintable version | Jul 25, 2021 9:29:09 PM | https://www.thehindu.com/sport/races/decisive-glorious-land-king-tchala-and-cape-cod-work-well/article33474293.ece\\\\n\"}',\n",
              " '{\"Text\": \"\\\\nBorn Queen takes South India Oaks in style\\\\n\\\\nRewarding excellence: Jockey Suraj Narredu, left, and trainer S. Narredu receiving the South India Oaks trophy from Madras Race Club chairman M.A.M.R. Muthiah.\\\\n\\\\u00a0  Born Queen (Suraj Narredu astride) won the South India Oaks, the feature event of the races held here on Friday (January. 1). The winner, trained by S. Narredu, is the property of United Racing & Bloodstock Breeders.Born Queen was a handy fifth at the final bend when Suraj, who rode a well-judged race, made his move in the straight. The filly, which had claimed the South India 1000 Guineas, accelerated tremendously to two reminders near the 200m mark and went clear to register her fourth win and complete a Classic double.1. K. BALARAMA DAS MEMORIAL CUP (1,200m), maiden 3-y-o only (Terms): LADY SOLITAIRE (Nakhat Singh) 1, Bolivia (Umesh), Sweet Fragrance (Irvan Singh) 3 and Whistle Podu (P. Sai Kumar) 4. 2, 1-3/4 and 1-1/4. 1m, 12.41s. Owner: M.A.M. Ramaswamy Chettiar of Chettinad Charitable Trust. Trainer: R. Foley.2. CANTERBURY PARK PLATE (1,000m), 6-y-o & over, rated 20 to 45: EYES OF FALCON (Zervan) 1, Parrys Glory (Ayaz Khan) 2, Star Convey (Iltaf Hussain) 3 and Full Bloom (Brisson) 4. Not run: Tigress Paw. Shd, 3/4 and 3/4. 1m, 0.79s. Owners: Mr. Kishore Futnani & Mr. Chirag D. Joshi. Trainer: D.K. Futnani.3. DOUBLE OR QUITS PLATE (1,800m), rated 00 to 25: BLUE PATENT (P. Trevor) 1, Catalyst (Shahar Babu) 2, Betty Boop (Azfar Syeed) 3 and Beautiful Princess (P. Sai Kumar) 4. 2-3/4, 1/2 and shd. 1m, 55.98s. Owners: Mr. Saif Hoosein Nensey, Mrs. Nissa Hoosein Nensey & Mr. Husain Sultan Ali Nensey. Trainer: Sebastian.4. G. KASTURI MEMORIAL TROPHY (1,600m), rated 60 to 85: ROYAL CURRENCY (Brisson) 1, Durango (Irvan Singh) 2, Sentosa (Azfar Syeed) 3 and Semele (Zervan) 4. 1, 4-1/2 and 1-1/4. 1m, 37.76s. Owner: M.A.M. Ramaswamy Chettiar of Chettinad Charitable Trust. Trainer: B. Suresh.5. SOUTH INDIA OAKS (2,400m), 4-y-o Indian Fillies only (Terms): BORN QUEEN (Tazahum- State Secret) Suraj Narredu 1, SUCCESSOR (Litir Mor-Sweeping Success) P. Trevor 2, BISATE (Western Aristocrate-Verbier) Zervan 3 and LUMINOUS (Speaking of Which-Allaire) Akshay Kumar 4. 3-1/4, 1 and nose. 2m, 37.46s. Owner: United Racing & Bloodstock Breeders. Trainer S. Narredu.6. SCARFACE PLATE (1,800m), rated 40 to 65: PENANG (P. Sai Kumar) 1, Torbert (Umesh) 2, Demerara (Azfar Syeed) 3 and My Passion (Akshay Kumar) 4. Not run: Pacific Dunes. 3/4, lnk and 5-1/4. 1m, 52.46s. Owners: Mr. K.R. Muthukaruppan & Mr. V.M. Gopal. Trainer: Mandanna.7. SOUTHERN REGENT PLATE (1,400m), rated 20 to 45: DESERT FORCE (C.P. Khanal) 1, Radical Review (Suraj Narredu) 2, Sanctuary Cove (P. Ajeeth Kumar) 3 and Illustrious Ruler (Nakhat Singh) 4. 1-1/4, 1-1/4 and 1. 1m, 27.69s. Owner: Mr. A.C. Muthiah. Trainer: B. Suresh.\\\\nPrintable version | Jul 25, 2021 9:39:27 PM | https://www.thehindu.com/sport/races/born-queen-takes-south-india-oaks-in-style/article33474244.ece\\\\n\"}',\n",
              " '{\"Text\": \"\\\\nIndiGo servers hacked in December; internal documents may get uploaded publicly\\\\n\\\\nIndia\\\\u2019s largest airlines, in a statement to the stock exchanges said, it is determining the extent of data breach and that it has approached the police on the issue.\\\\n\\\\nIndiGo says its servers were hacked earlier in December. \\\\u00a0 | Photo Credit: Reuters (Subscribe to our Today\\'s Cache newsletter for a quick snapshot of top 5 tech stories. Click here to subscribe for free.)IndiGo on Thursday said its servers were hacked earlier in December and that possibly some internal documents may get uploaded by hackers on public websites and platforms.India\\\\u2019s largest airlines, in a statement to the stock exchanges said, it is determining the extent of data breach and that it has approached the police on the issue.\\\\u201cWe would like to make this disclosure that some of our servers were subject to a hacking incident earlier this month,\\\\u201d IndiGo said.The company said it was able to restore the systems in a very short span of time with the minimal impact.However, it warned that some of the segments of the data were breached and hackers may upload some internal documents publicly.\\\\u201cWe realise the seriousness of the issue, and are continuing to engage with all relevant experts and law enforcement to ensure that the incident is investigated in detail,\\\\u201d IndiGo said.The announcement comes as the airline is planning to return to pre-COVID levels by January or February in the domestic market.\\\\nPrintable version | Jul 25, 2021 9:08:03 PM | https://www.thehindu.com/sci-tech/technology/indigo-servers-hacked-in-december-internal-documents-may-get-uploaded-publicly/article33472180.ece\\\\n\"}',\n",
              " '{\"Text\": \"\\\\nSony to launch PlayStation 5 in India in February\\\\n\\\\nPre-orders for PS5 will begin on January 12 Sony Corp said on Friday its PlayStation 5 (PS5) console will be launched in India in coming weeks as it tries to capitalise on the pandemic-driven boom in gaming.\\\\u201cWe are happy to announce that PS5 shall be launched in India on 2nd of February 2021,\\\\u201d the Japanese firm tweeted from its PlayStation India Twitter handle.Pre-orders for PS5 will begin on January 12 and will be available for orders at major retailers, including Amazon and Flipkart, the tech firm said.Microsoft Corp launched two models of its Xbox gaming console in November, seven years after the debut of the previous version, while Sony launched its PS5 in core markets two days later.\\\\nPrintable version | Jul 25, 2021 9:08:05 PM | https://www.thehindu.com/sci-tech/technology/sony-to-launch-playstation-5-in-india-in-february/article33470512.ece\\\\n\"}',\n",
              " '{\"Text\": \"\\\\nApple removes 39,000 game apps from China store to meet deadline\\\\n\\\\nChina\\'s Android app stores have long complied with regulations on licences. It is not clear why Apple is enforcing them more strictly this year.\\\\n\\\\nGames affected by the sweep included Ubisoft title Assassin\\'s Creed Identity and NBA2K20, according to research firm Qimai.\\\\n\\\\u00a0 | Photo Credit: Reuters (Subscribe to our Today\\'s Cache newsletter for a quick snapshot of top 5 tech stories. Click here to subscribe for free.)Apple removed 39,000 game apps on its China store Thursday, the biggest removal ever in a single day, as it set year-end as deadline for all game publishers to obtain a license.The takedowns come amid a crackdown on unlicensed games by Chinese authorities.Including the 39,000 games, Apple removed more than 46,000 apps in total from its store on Thursday. Games affected by the sweep included Ubisoft title Assassin\\'s Creed Identity and NBA2K20, according to research firm Qimai.Qimai also said only 74 of the top 1,500 paid games on Apple store survived the purge.Apple did not immediately respond to a request for comment.Also Read | A look at Apple\\'s high and low points in 2020Apple initially gave game publishers an end-of-June deadline to submit a government-issued licence number enabling users to make in-app purchases in the world\\'s biggest games market.Apple later extended the deadline to Dec. 31.China\\'s Android app stores have long complied with regulations on licences. It is not clear why Apple is enforcing them more strictly this year.Analysts said the move was no surprise as Apple continues to close loopholes to fall in line with China\\'s content regulators, and would not directly affect Apple\\'s bottom line as much as previous removals.\\\\\"However, this major pivot to only accepting paid games that have a game licence, coupled with China\\'s extremely low number of foreign game licences approved this year, will probably lead more game developers to switch to an ad-supported model for their Chinese versions,\\\\\" said Todd Kuhns, marketing manager for AppInChina, a firm that helps overseas companies distribute their apps.\\\\nPrintable version | Jul 25, 2021 9:39:34 PM | https://www.thehindu.com/sci-tech/technology/apple-removes-game-apps-from-china-store/article33469692.ece\\\\n\"}',\n",
              " '{\"Text\": \"\\\\nMicrosoft says hackers viewed source code, didn\\\\u2019t change it\\\\n\\\\nThe company said it found no evidence of hacker access to customer data and no indication that its systems were used to attack others.\\\\n\\\\nMicrosoft said that attackers who spearheaded a massive hack of government and private computer networks gained access to its internal \\\\u201csource code,\\\\u201d a key building block for its software. But the company has downplayed the risk. (File photo for representation.)\\\\n\\\\u00a0 | Photo Credit: \\\\nAP\\\\n (Subscribe to our Today\\'s Cache newsletter for a quick snapshot of top 5 tech stories. Click here to subscribe for free.)Microsoft said on Thursday in a blog post that hackers tied to a massive intrusion of dozens of U.S. government agencies and private companies snuck farther into its systems than previously thought, although the intrusion doesn\\\\u2019t appear to have caused any additional harm.The company said the hackers were able to view some of the code underlying Microsoft software, but weren\\\\u2019t able to make any changes to it.Microsoft played down any risk associated with the additional intrusion, noting that its software development relies on code sharing within the company, a practice called \\\\u201cinner source.\\\\u201dLikewise, Microsoft said it doesn\\\\u2019t rely on keeping programme code secret as a security measure and instead assumes that adversaries have seen its code and uses other defensive measures to frustrate attacks.The company said it found no evidence of hacker access to customer data and no indication that its systems were used to attack others.The hack began as early as March when malicious code was snuck into updates to SolarWinds software that monitors computer networks. Microsoft helped respond to the breach with cybersecurity firm FireEye, which discovered the hack when the security firm itself was targeted.Cybersecurity experts and U.S. officials suspect Russia was behind the hack that infiltrated over 40 federal agencies, including the departments of Treasury, Energy and Commerce, as well as government contractors. Russia has denied that it is to blame.\\\\nPrintable version | Jul 25, 2021 9:15:51 PM | https://www.thehindu.com/sci-tech/technology/microsoft-says-hackers-viewed-source-code-didnt-change-it/article33468496.ece\\\\n\"}',\n",
              " '{\"Text\": \"\\\\nTop news of the day: India may approve Covishield for emergency use; New Delhi seeks help to rescue sailors stranded in Chinese waters, and more\\\\n\\\\nThe major news headlines of the day, and more. \\\\nVials of COVID-19 vaccine COVISHIELD are seen inside a visual inspection machine inside a lab at the Serum Institute of India in Pune. File\\\\n\\\\u00a0 | Photo Credit: \\\\nReuters  DCGI\\\\u2019s Subject Expert Committee is also reviewing an application by Bharat Biotech for its vaccine candidate Covaxin.Every country that has a drug regulatory agency will have to issue its own approval for any COVID-19 vaccine, but countries with weak systems usually rely on WHO to vet the shots.A priority list of health workers have been created and will be uploaded on COVID platform in preparation for the COVID-19 vaccination.\\\\u201cWe expect that this assistance will be provided in an urgent, practical and time-bound manner, given the grave humanitarian situation that is developing onboard the ships,\\\\u201d the Ministry of External Affairs said.Government must repeal laws and not make it a battle of egos, says union leader.About 1,000 houses at each location are to be constructed in a year.Congress-led UDF came second to the LDF in the recent local body polls.CBI Director Rishi Kumar Shukla emphasises need for officials to keep themselves updated with latest tools of investigation through sustained training.India will sit in the 15-nation UNSC for the 2021-22 term as a non-permanent member \\\\u2014 the eighth time that the country has had a seat on the powerful horseshoe table.Pakistan handed over a list of 319 Indian prisoners including 49 civil and 270 fishermen lodged in the country\\\\u2019s jails to the High Commission of India as part of a bilateral agreement. Reciprocally, the Indian government also simultaneously shared the list of 340 Pakistani prisoners in India, including 263 civilians and 77 fishermen with the High Commission for Pakistan in New Delhi.Globally, over half of these births are estimated to take place in 10 countries, according to a press statement from the UNICEF.The second line of the anthem, Advance Australia Fair, has been changed from \\\\u201cFor we are young and free\\\\u201d to \\\\u201cFor we are one and free.\\\\u201dAmong major Sensex gainers, ITC rose the most by 2.32%The total number of GSTR-3B Returns filed for the month of November up to December 31, 2020 is \\\\u20b987 lakh.India\\\\u2019s tour of Australia 2020-21 |Both Shami and Umesh Yadav will head to the National Cricket Academy in Bengaluru for further rehabilitation of their injuries.\\\\nPrintable version | Jul 25, 2021 9:08:10 PM | https://www.thehindu.com/news/top-news-of-the-day-january-1-2021-india-may-approve-covishield-for-emergency-use-new-delhi-seeks-help-to-rescue-sailors-stranded-in-chinese-waters-and-more/article33473779.ece\\\\n\"}',\n",
              " '{\"Text\": \"\\\\nAlgerian president signs new constitution into law\\\\n\\\\nPresident Abdelmadjid Tebboune, who returned to Algeria this week after two months in Germany, had promoted the new constitution as the \\\\u201ccornerstone of the new Algeria\\\\u201d.\\\\nAlgeria\\\\u2019s president on Friday signed the country\\\\u2019s new constitution into law, his office said, after the document was approved in a November referendum on record low turnout as its leader received treatment abroad for Covid-19.President Abdelmadjid Tebboune, who returned to Algeria this week after two months in Germany, had promoted the new constitution as the \\\\u201ccornerstone of the new Algeria\\\\u201d, as he sought to turn the page on the long-running Hirak mass protest movement.But the document received the backing of less than 15% of the electorate, in a November vote overshadowed by the novel coronavirus pandemic and following Hirak calls for a boycott.The Hirak first launched vast street demonstrations in early 2019 to oppose then-president Abdelaziz Bouteflika\\\\u2019s bid for a fifth term in office. Following his resignation that April, the Hirak kept up the pressure to demand a full overhaul of the ruling system in place since the North African country\\\\u2019s 1962 independence from France.The new constitution was pitched as responding to the demands of the Hirak, but keeps in place Algeria\\\\u2019s presidential regime and expands the powers of the army, a central pillar of the state.Tebboune, 75, on Thursday approved Algeria\\\\u2019s 2021 budget and is hoping to launch a vaccination campaign against the novel coronavirus, using the Sputnik V jab produced by its Russian ally, as early as this month.\\\\nPrintable version | Jul 25, 2021 9:39:38 PM | https://www.thehindu.com/news/international/algerian-president-signs-new-constitution-into-law/article33475316.ece\\\\n\"}',\n",
              " '{\"Text\": \"\\\\nDelay sought in ex-officers\\\\u2019 trial over George Floyd\\\\u2019s death \\\\nThe trial has been scheduled for March 8 for the four now-fired police officers charged in the death of Floyd on May 25.\\\\nProsecutors in the case against the four Minneapolis officers charged in the death of George Floyd requested that the trial delayed by three months. The Star Tribune reports prosecutors cited the COVID-19 pandemic and the amount of time needed before enough people are vaccinated and health risks are sufficiently diminished.The trial has been scheduled for March 8 for the four now-fired police officers charged in the death of Floyd on May 25 while he was forcibly detained on a south Minneapolis street corner. In its motion, the prosecution argued that putting off the trial until June 7 \\\\u201cappropriately balances the need to protect public health with the need to ensure that this case is resolved expeditiously.\\\\u201d Derek Chauvin, Tou Thao, J. Alexander Kueng and Thomas Lane are scheduled to be tried together. Chauvin is charged with second-degree murder and manslaughter, and the others are charged with aiding and abetting murder and manslaughter.Chauvin\\\\u2019s attorney, Eric Nelson, said he doesn\\\\u2019t intend to object to the prosecution seeking a delay in the trial.Kueng\\\\u2019s attorney, Thomas Plunkett, said the prosecution\\\\u2019s motion pointing to COVID-19 is puzzling.\\\\u201cThe timing of their motion seems curious to me,\\\\u201d Plunkett said. \\\\u201cThe pandemic has been around for a while.\\\\u201dThao\\\\u2019s lawyer, Robert Paule, did not immediately respond to a request for comment.\\\\nPrintable version | Jul 25, 2021 9:39:40 PM | https://www.thehindu.com/news/international/delay-sought-in-ex-officers-trial-over-george-floyds-death/article33475304.ece\\\\n\"}']"
            ]
          },
          "metadata": {
            "tags": []
          },
          "execution_count": 4
        }
      ]
    },
    {
      "cell_type": "code",
      "metadata": {
        "colab": {
          "base_uri": "https://localhost:8080/",
          "height": 359
        },
        "id": "eYMjGuEg1lGV",
        "outputId": "72cc07b0-56b5-449c-b481-8237140f2f74"
      },
      "source": [
        "#Creating a dataframe with the raw and processed text to analyze differences\n",
        "\n",
        "import pandas as pd\n",
        "df = pd.DataFrame(zip(data_list, data_list),\n",
        "               columns =['Raw_Text', 'Processed_Text'])\n",
        "df.head(len(name_list))"
      ],
      "execution_count": 6,
      "outputs": [
        {
          "output_type": "execute_result",
          "data": {
            "text/html": [
              "<div>\n",
              "<style scoped>\n",
              "    .dataframe tbody tr th:only-of-type {\n",
              "        vertical-align: middle;\n",
              "    }\n",
              "\n",
              "    .dataframe tbody tr th {\n",
              "        vertical-align: top;\n",
              "    }\n",
              "\n",
              "    .dataframe thead th {\n",
              "        text-align: right;\n",
              "    }\n",
              "</style>\n",
              "<table border=\"1\" class=\"dataframe\">\n",
              "  <thead>\n",
              "    <tr style=\"text-align: right;\">\n",
              "      <th></th>\n",
              "      <th>Raw_Text</th>\n",
              "      <th>Processed_Text</th>\n",
              "    </tr>\n",
              "  </thead>\n",
              "  <tbody>\n",
              "    <tr>\n",
              "      <th>0</th>\n",
              "      <td>{\"Text\": \"\\nNBA | Wall makes Rockets debut in ...</td>\n",
              "      <td>{\"Text\": \"\\nNBA | Wall makes Rockets debut in ...</td>\n",
              "    </tr>\n",
              "    <tr>\n",
              "      <th>1</th>\n",
              "      <td>{\"Text\": \"\\nDecisive, Glorious Land, King T\\u2...</td>\n",
              "      <td>{\"Text\": \"\\nDecisive, Glorious Land, King T\\u2...</td>\n",
              "    </tr>\n",
              "    <tr>\n",
              "      <th>2</th>\n",
              "      <td>{\"Text\": \"\\nBorn Queen takes South India Oaks ...</td>\n",
              "      <td>{\"Text\": \"\\nBorn Queen takes South India Oaks ...</td>\n",
              "    </tr>\n",
              "    <tr>\n",
              "      <th>3</th>\n",
              "      <td>{\"Text\": \"\\nIndiGo servers hacked in December;...</td>\n",
              "      <td>{\"Text\": \"\\nIndiGo servers hacked in December;...</td>\n",
              "    </tr>\n",
              "    <tr>\n",
              "      <th>4</th>\n",
              "      <td>{\"Text\": \"\\nSony to launch PlayStation 5 in In...</td>\n",
              "      <td>{\"Text\": \"\\nSony to launch PlayStation 5 in In...</td>\n",
              "    </tr>\n",
              "    <tr>\n",
              "      <th>5</th>\n",
              "      <td>{\"Text\": \"\\nApple removes 39,000 game apps fro...</td>\n",
              "      <td>{\"Text\": \"\\nApple removes 39,000 game apps fro...</td>\n",
              "    </tr>\n",
              "    <tr>\n",
              "      <th>6</th>\n",
              "      <td>{\"Text\": \"\\nMicrosoft says hackers viewed sour...</td>\n",
              "      <td>{\"Text\": \"\\nMicrosoft says hackers viewed sour...</td>\n",
              "    </tr>\n",
              "    <tr>\n",
              "      <th>7</th>\n",
              "      <td>{\"Text\": \"\\nTop news of the day: India may app...</td>\n",
              "      <td>{\"Text\": \"\\nTop news of the day: India may app...</td>\n",
              "    </tr>\n",
              "    <tr>\n",
              "      <th>8</th>\n",
              "      <td>{\"Text\": \"\\nAlgerian president signs new const...</td>\n",
              "      <td>{\"Text\": \"\\nAlgerian president signs new const...</td>\n",
              "    </tr>\n",
              "    <tr>\n",
              "      <th>9</th>\n",
              "      <td>{\"Text\": \"\\nDelay sought in ex-officers\\u2019 ...</td>\n",
              "      <td>{\"Text\": \"\\nDelay sought in ex-officers\\u2019 ...</td>\n",
              "    </tr>\n",
              "  </tbody>\n",
              "</table>\n",
              "</div>"
            ],
            "text/plain": [
              "                                            Raw_Text                                     Processed_Text\n",
              "0  {\"Text\": \"\\nNBA | Wall makes Rockets debut in ...  {\"Text\": \"\\nNBA | Wall makes Rockets debut in ...\n",
              "1  {\"Text\": \"\\nDecisive, Glorious Land, King T\\u2...  {\"Text\": \"\\nDecisive, Glorious Land, King T\\u2...\n",
              "2  {\"Text\": \"\\nBorn Queen takes South India Oaks ...  {\"Text\": \"\\nBorn Queen takes South India Oaks ...\n",
              "3  {\"Text\": \"\\nIndiGo servers hacked in December;...  {\"Text\": \"\\nIndiGo servers hacked in December;...\n",
              "4  {\"Text\": \"\\nSony to launch PlayStation 5 in In...  {\"Text\": \"\\nSony to launch PlayStation 5 in In...\n",
              "5  {\"Text\": \"\\nApple removes 39,000 game apps fro...  {\"Text\": \"\\nApple removes 39,000 game apps fro...\n",
              "6  {\"Text\": \"\\nMicrosoft says hackers viewed sour...  {\"Text\": \"\\nMicrosoft says hackers viewed sour...\n",
              "7  {\"Text\": \"\\nTop news of the day: India may app...  {\"Text\": \"\\nTop news of the day: India may app...\n",
              "8  {\"Text\": \"\\nAlgerian president signs new const...  {\"Text\": \"\\nAlgerian president signs new const...\n",
              "9  {\"Text\": \"\\nDelay sought in ex-officers\\u2019 ...  {\"Text\": \"\\nDelay sought in ex-officers\\u2019 ..."
            ]
          },
          "metadata": {
            "tags": []
          },
          "execution_count": 6
        }
      ]
    },
    {
      "cell_type": "markdown",
      "metadata": {
        "id": "dyzqa_VFek8N"
      },
      "source": [
        "##Data Cleansing"
      ]
    },
    {
      "cell_type": "code",
      "metadata": {
        "colab": {
          "base_uri": "https://localhost:8080/"
        },
        "id": "96-65lUh3uZr",
        "outputId": "e8643070-509c-44f7-9d28-110ade11b7c1"
      },
      "source": [
        "for m in range(len(name_list)):\n",
        "  #Removing new line commands like \\n, \\t, \\r\n",
        "  df['Processed_Text'].values[m] = (re.sub(r\"\\\\n\", \" \", df['Processed_Text'].values[m]))\n",
        "  df['Processed_Text'].values[m] = (re.sub(r\"\\\\u\", \" \", df['Processed_Text'].values[m]))\n",
        "  df['Processed_Text'].values[m] = (re.sub(r\"\\\\t\", \" \", df['Processed_Text'].values[m]))\n",
        "  df['Processed_Text'].values[m] = (re.sub(r\"\\\\r\", \" \", df['Processed_Text'].values[m]))\n",
        "\n",
        "  #Removing any remaining words starting with '/'\n",
        "  df['Processed_Text'].values[m] = \" \".join(filter(lambda x:x[0]!=\"\\\\\", df['Processed_Text'].values[m].split()))\n",
        "\n",
        "  #Removing all non-letters and non-digits\n",
        "  df['Processed_Text'].values[m] = (re.sub(r\"\\W\", \" \", df['Processed_Text'].values[m]))\n",
        "  \n",
        "  #Removing all numbers\n",
        "  df[\"Processed_Text\"].replace('\\d+', '', regex=True, inplace = True)\n",
        "\n",
        "  #Removing all extra white spaces\n",
        "  df['Processed_Text'].values[m] = \" \".join(df['Processed_Text'].values[m].split())\n",
        "\n",
        "  #Removing the first word of each text file, i.e., name of key\n",
        "  df['Processed_Text'].values[m] = df['Processed_Text'].values[m].split(' ', 1)[1]\n",
        "  \n",
        "  print(df['Processed_Text'].values[m])"
      ],
      "execution_count": 9,
      "outputs": [
        {
          "output_type": "stream",
          "text": [
            "NBA Wall makes Rockets debut in win over Kings Raptors ends worst start to season in years with defeat of New York Knicks Back with a bang Houston Rockets guard John Wall made his return to action count against Sacramento Kings a Photo Credit Richard Carson James Harden scored a game high points and John Wall finished with a double double in his first game since as Houston Rockets beat Sacramento Kings on Thursday Wall tallied points and nine assists for the Rockets who were also playing their first game with DeMarcus Cousins and Eric Gordon Wall was acquired from Washington Wizards for Russell Westbrook Harden sank two free throws late in the game as the Rockets held on for the win Kings had a chance to tie it but missed two threes in the final seconds in front of a crowd of in Texas Harden also had eight assists and six rebounds in the first game of a two game set with the Kings Elsewhere Joel Embiid delivered points and nine rebounds as Philadelphia ers sank three pointers to hand Orlando Magic its first loss of the new season with a win Embiid scored all his points in just three quarters for the Sixers who sank eight of their first attempts from three point range in front of fans at the Amway Center in Orlando Elsewhere Toronto Raptors posted its first win of the season putting a halt to a worst start in years The results Indiana Pacers bt Cleveland Cavaliers Washington Wizards lost to Chicago Bulls Orlando Magic lost to Philadelphia ers Houston Rockets bt Sacramento Kings Toronto Raptors bt New York Knicks Printable version Jul PM https www thehindu com sport other sports nba wall makes rockets debut in win over kings article ece\n",
            "Decisive Glorious Land King T Chala and Cape Cod work well Decisive Glorious Land King T Chala and Cape Cod worked well when the horses were exercised here on Friday January m Fashion Of Stars App Sovereign Power App They were easy Romantic Bay K V Baskar m First Empress rb Andromeda Sky app They finished together m Tifosi rb Maintains form Silverman Ayaz Khan Hadar A M Alam Latter moved better and finished in front Merrywin rb Cape Cod N Murugan Latter impressed Naomi Azad Alam Green Channel App Kingoftheworld N Murugan Fully eased up Glorious Land A M Alam In fine nick King T Chala Azfar Syeed Moved well Amendment rb Annexed Iltaf Hussain They moved freely Knight Envied rb Emelda rb They are in good shape Decisive Shahar Babu Pleased Wild Passion App Optimus Commander Janardhan P Maidstone Kamigallu Supreme Excelsior rb Battista Rajendra Singh They moved on the bit Exquisite Star rb Prince Of Windsor App Former easily finished two lengths ahead Mock race m Mzilikazi Nakhat Singh Nekhbet Rajendra Singh Towns End Azfar Syeed Talan Farhan s Mzilikazi and Nekhbet impressed Printable version Jul PM https www thehindu com sport races decisive glorious land king tchala and cape cod work well article ece\n",
            "Born Queen takes South India Oaks in style Rewarding excellence Jockey Suraj Narredu left and trainer S Narredu receiving the South India Oaks trophy from Madras Race Club chairman M A M R Muthiah a Born Queen Suraj Narredu astride won the South India Oaks the feature event of the races held here on Friday January The winner trained by S Narredu is the property of United Racing Bloodstock Breeders Born Queen was a handy fifth at the final bend when Suraj who rode a well judged race made his move in the straight The filly which had claimed the South India Guineas accelerated tremendously to two reminders near the m mark and went clear to register her fourth win and complete a Classic double K BALARAMA DAS MEMORIAL CUP m maiden y o only Terms LADY SOLITAIRE Nakhat Singh Bolivia Umesh Sweet Fragrance Irvan Singh and Whistle Podu P Sai Kumar and m s Owner M A M Ramaswamy Chettiar of Chettinad Charitable Trust Trainer R Foley CANTERBURY PARK PLATE m y o over rated to EYES OF FALCON Zervan Parrys Glory Ayaz Khan Star Convey Iltaf Hussain and Full Bloom Brisson Not run Tigress Paw Shd and m s Owners Mr Kishore Futnani Mr Chirag D Joshi Trainer D K Futnani DOUBLE OR QUITS PLATE m rated to BLUE PATENT P Trevor Catalyst Shahar Babu Betty Boop Azfar Syeed and Beautiful Princess P Sai Kumar and shd m s Owners Mr Saif Hoosein Nensey Mrs Nissa Hoosein Nensey Mr Husain Sultan Ali Nensey Trainer Sebastian G KASTURI MEMORIAL TROPHY m rated to ROYAL CURRENCY Brisson Durango Irvan Singh Sentosa Azfar Syeed and Semele Zervan and m s Owner M A M Ramaswamy Chettiar of Chettinad Charitable Trust Trainer B Suresh SOUTH INDIA OAKS m y o Indian Fillies only Terms BORN QUEEN Tazahum State Secret Suraj Narredu SUCCESSOR Litir Mor Sweeping Success P Trevor BISATE Western Aristocrate Verbier Zervan and LUMINOUS Speaking of Which Allaire Akshay Kumar and nose m s Owner United Racing Bloodstock Breeders Trainer S Narredu SCARFACE PLATE m rated to PENANG P Sai Kumar Torbert Umesh Demerara Azfar Syeed and My Passion Akshay Kumar Not run Pacific Dunes lnk and m s Owners Mr K R Muthukaruppan Mr V M Gopal Trainer Mandanna SOUTHERN REGENT PLATE m rated to DESERT FORCE C P Khanal Radical Review Suraj Narredu Sanctuary Cove P Ajeeth Kumar and Illustrious Ruler Nakhat Singh and m s Owner Mr A C Muthiah Trainer B Suresh Printable version Jul PM https www thehindu com sport races born queen takes south india oaks in style article ece\n",
            "IndiGo servers hacked in December internal documents may get uploaded publicly India s largest airlines in a statement to the stock exchanges said it is determining the extent of data breach and that it has approached the police on the issue IndiGo says its servers were hacked earlier in December a Photo Credit Reuters Subscribe to our Today s Cache newsletter for a quick snapshot of top tech stories Click here to subscribe for free IndiGo on Thursday said its servers were hacked earlier in December and that possibly some internal documents may get uploaded by hackers on public websites and platforms India s largest airlines in a statement to the stock exchanges said it is determining the extent of data breach and that it has approached the police on the issue cWe would like to make this disclosure that some of our servers were subject to a hacking incident earlier this month d IndiGo said The company said it was able to restore the systems in a very short span of time with the minimal impact However it warned that some of the segments of the data were breached and hackers may upload some internal documents publicly cWe realise the seriousness of the issue and are continuing to engage with all relevant experts and law enforcement to ensure that the incident is investigated in detail d IndiGo said The announcement comes as the airline is planning to return to pre COVID levels by January or February in the domestic market Printable version Jul PM https www thehindu com sci tech technology indigo servers hacked in december internal documents may get uploaded publicly article ece\n",
            "Sony to launch PlayStation in India in February Pre orders for PS will begin on January Sony Corp said on Friday its PlayStation PS console will be launched in India in coming weeks as it tries to capitalise on the pandemic driven boom in gaming cWe are happy to announce that PS shall be launched in India on nd of February d the Japanese firm tweeted from its PlayStation India Twitter handle Pre orders for PS will begin on January and will be available for orders at major retailers including Amazon and Flipkart the tech firm said Microsoft Corp launched two models of its Xbox gaming console in November seven years after the debut of the previous version while Sony launched its PS in core markets two days later Printable version Jul PM https www thehindu com sci tech technology sony to launch playstation in india in february article ece\n",
            "Apple removes game apps from China store to meet deadline China s Android app stores have long complied with regulations on licences It is not clear why Apple is enforcing them more strictly this year Games affected by the sweep included Ubisoft title Assassin s Creed Identity and NBAK according to research firm Qimai a Photo Credit Reuters Subscribe to our Today s Cache newsletter for a quick snapshot of top tech stories Click here to subscribe for free Apple removed game apps on its China store Thursday the biggest removal ever in a single day as it set year end as deadline for all game publishers to obtain a license The takedowns come amid a crackdown on unlicensed games by Chinese authorities Including the games Apple removed more than apps in total from its store on Thursday Games affected by the sweep included Ubisoft title Assassin s Creed Identity and NBAK according to research firm Qimai Qimai also said only of the top paid games on Apple store survived the purge Apple did not immediately respond to a request for comment Also Read A look at Apple s high and low points in Apple initially gave game publishers an end of June deadline to submit a government issued licence number enabling users to make in app purchases in the world s biggest games market Apple later extended the deadline to Dec China s Android app stores have long complied with regulations on licences It is not clear why Apple is enforcing them more strictly this year Analysts said the move was no surprise as Apple continues to close loopholes to fall in line with China s content regulators and would not directly affect Apple s bottom line as much as previous removals However this major pivot to only accepting paid games that have a game licence coupled with China s extremely low number of foreign game licences approved this year will probably lead more game developers to switch to an ad supported model for their Chinese versions said Todd Kuhns marketing manager for AppInChina a firm that helps overseas companies distribute their apps Printable version Jul PM https www thehindu com sci tech technology apple removes game apps from china store article ece\n",
            "Microsoft says hackers viewed source code didn t change it The company said it found no evidence of hacker access to customer data and no indication that its systems were used to attack others Microsoft said that attackers who spearheaded a massive hack of government and private computer networks gained access to its internal csource code d a key building block for its software But the company has downplayed the risk File photo for representation a Photo Credit AP Subscribe to our Today s Cache newsletter for a quick snapshot of top tech stories Click here to subscribe for free Microsoft said on Thursday in a blog post that hackers tied to a massive intrusion of dozens of U S government agencies and private companies snuck farther into its systems than previously thought although the intrusion doesn t appear to have caused any additional harm The company said the hackers were able to view some of the code underlying Microsoft software but weren t able to make any changes to it Microsoft played down any risk associated with the additional intrusion noting that its software development relies on code sharing within the company a practice called cinner source dLikewise Microsoft said it doesn t rely on keeping programme code secret as a security measure and instead assumes that adversaries have seen its code and uses other defensive measures to frustrate attacks The company said it found no evidence of hacker access to customer data and no indication that its systems were used to attack others The hack began as early as March when malicious code was snuck into updates to SolarWinds software that monitors computer networks Microsoft helped respond to the breach with cybersecurity firm FireEye which discovered the hack when the security firm itself was targeted Cybersecurity experts and U S officials suspect Russia was behind the hack that infiltrated over federal agencies including the departments of Treasury Energy and Commerce as well as government contractors Russia has denied that it is to blame Printable version Jul PM https www thehindu com sci tech technology microsoft says hackers viewed source code didnt change it article ece\n",
            "Top news of the day India may approve Covishield for emergency use New Delhi seeks help to rescue sailors stranded in Chinese waters and more The major news headlines of the day and more Vials of COVID vaccine COVISHIELD are seen inside a visual inspection machine inside a lab at the Serum Institute of India in Pune File a Photo Credit Reuters DCGI s Subject Expert Committee is also reviewing an application by Bharat Biotech for its vaccine candidate Covaxin Every country that has a drug regulatory agency will have to issue its own approval for any COVID vaccine but countries with weak systems usually rely on WHO to vet the shots A priority list of health workers have been created and will be uploaded on COVID platform in preparation for the COVID vaccination cWe expect that this assistance will be provided in an urgent practical and time bound manner given the grave humanitarian situation that is developing onboard the ships d the Ministry of External Affairs said Government must repeal laws and not make it a battle of egos says union leader About houses at each location are to be constructed in a year Congress led UDF came second to the LDF in the recent local body polls CBI Director Rishi Kumar Shukla emphasises need for officials to keep themselves updated with latest tools of investigation through sustained training India will sit in the nation UNSC for the term as a non permanent member the eighth time that the country has had a seat on the powerful horseshoe table Pakistan handed over a list of Indian prisoners including civil and fishermen lodged in the country s jails to the High Commission of India as part of a bilateral agreement Reciprocally the Indian government also simultaneously shared the list of Pakistani prisoners in India including civilians and fishermen with the High Commission for Pakistan in New Delhi Globally over half of these births are estimated to take place in countries according to a press statement from the UNICEF The second line of the anthem Advance Australia Fair has been changed from cFor we are young and free d to cFor we are one and free dAmong major Sensex gainers ITC rose the most by The total number of GSTR B Returns filed for the month of November up to December is b lakh India s tour of Australia Both Shami and Umesh Yadav will head to the National Cricket Academy in Bengaluru for further rehabilitation of their injuries Printable version Jul PM https www thehindu com news top news of the day january india may approve covishield for emergency use new delhi seeks help to rescue sailors stranded in chinese waters and more article ece\n",
            "Algerian president signs new constitution into law President Abdelmadjid Tebboune who returned to Algeria this week after two months in Germany had promoted the new constitution as the ccornerstone of the new Algeria d Algeria s president on Friday signed the country s new constitution into law his office said after the document was approved in a November referendum on record low turnout as its leader received treatment abroad for Covid President Abdelmadjid Tebboune who returned to Algeria this week after two months in Germany had promoted the new constitution as the ccornerstone of the new Algeria d as he sought to turn the page on the long running Hirak mass protest movement But the document received the backing of less than of the electorate in a November vote overshadowed by the novel coronavirus pandemic and following Hirak calls for a boycott The Hirak first launched vast street demonstrations in early to oppose then president Abdelaziz Bouteflika s bid for a fifth term in office Following his resignation that April the Hirak kept up the pressure to demand a full overhaul of the ruling system in place since the North African country s independence from France The new constitution was pitched as responding to the demands of the Hirak but keeps in place Algeria s presidential regime and expands the powers of the army a central pillar of the state Tebboune on Thursday approved Algeria s budget and is hoping to launch a vaccination campaign against the novel coronavirus using the Sputnik V jab produced by its Russian ally as early as this month Printable version Jul PM https www thehindu com news international algerian president signs new constitution into law article ece\n",
            "Delay sought in ex officers trial over George Floyd s death The trial has been scheduled for March for the four now fired police officers charged in the death of Floyd on May Prosecutors in the case against the four Minneapolis officers charged in the death of George Floyd requested that the trial delayed by three months The Star Tribune reports prosecutors cited the COVID pandemic and the amount of time needed before enough people are vaccinated and health risks are sufficiently diminished The trial has been scheduled for March for the four now fired police officers charged in the death of Floyd on May while he was forcibly detained on a south Minneapolis street corner In its motion the prosecution argued that putting off the trial until June cappropriately balances the need to protect public health with the need to ensure that this case is resolved expeditiously d Derek Chauvin Tou Thao J Alexander Kueng and Thomas Lane are scheduled to be tried together Chauvin is charged with second degree murder and manslaughter and the others are charged with aiding and abetting murder and manslaughter Chauvin s attorney Eric Nelson said he doesn t intend to object to the prosecution seeking a delay in the trial Kueng s attorney Thomas Plunkett said the prosecution s motion pointing to COVID is puzzling cThe timing of their motion seems curious to me d Plunkett said cThe pandemic has been around for a while dThao s lawyer Robert Paule did not immediately respond to a request for comment Printable version Jul PM https www thehindu com news international delay sought in ex officers trial over george floyds death article ece\n"
          ],
          "name": "stdout"
        }
      ]
    },
    {
      "cell_type": "markdown",
      "metadata": {
        "id": "HghsG4KdeiXA"
      },
      "source": [
        "##Stop Words Removal & Tokenizing"
      ]
    },
    {
      "cell_type": "code",
      "metadata": {
        "id": "CHsmiB5R-SdA"
      },
      "source": [
        "from spacy.lang.en import English\n",
        "from spacy.lang.en.stop_words import STOP_WORDS\n",
        "STOP_WORDS |= {\"the\", \"jul\", \"pm\", \"https\", \"www\", \"printable\", \"version\", \"thehindu\", \"com\", \"news\", \"ece\", \n",
        "               \"s\", \"t\", \"d\", \"m\", \"article\", \"b\", \"rb\",\"cwe\", \"click\", \"subscribe\", \"photo\", \"credit\"}\n",
        "# Load English tokenizer, tagger, parser, NER and word vectors\n",
        "nlp = English()\n",
        "for m in range(len(name_list)):\n",
        "  text =df['Processed_Text'].values[m]\n",
        "    #\"nlp\" Object is used to create documents with linguistic annotations.\n",
        "  my_doc = nlp(text)\n",
        "\n",
        "  # Create list of word tokens\n",
        "  token_list = []\n",
        "  for token in my_doc:\n",
        "    token_list.append(token.text)\n",
        "\n",
        "  # Create list of word tokens after removing stopwords\n",
        "  filtered_sentence =[] \n",
        "\n",
        "  for word in token_list:\n",
        "   lexeme = nlp.vocab[word]\n",
        "   if lexeme.is_stop == False:\n",
        "        filtered_sentence.append(word) \n",
        "  r = filtered_sentence\n",
        "  df['Processed_Text'].values[m] = r"
      ],
      "execution_count": 10,
      "outputs": []
    },
    {
      "cell_type": "markdown",
      "metadata": {
        "id": "j3NRZ4RQeszc"
      },
      "source": [
        "##Stemming"
      ]
    },
    {
      "cell_type": "code",
      "metadata": {
        "id": "eJLYWbZ5erb9"
      },
      "source": [
        "from nltk.stem import PorterStemmer\n",
        "from nltk.stem import LancasterStemmer\n",
        "lancaster=LancasterStemmer()\n",
        "ps = PorterStemmer()\n",
        "\n",
        "\n",
        "for m in range(len(name_list)):\n",
        "  temp1 = []\n",
        "  temp2 = df['Processed_Text'].values[m]\n",
        "  for i in temp2:\n",
        "    temp1.append(lancaster.stem(i))\n",
        "  df['Processed_Text'].values[m] = temp1 \n",
        "  "
      ],
      "execution_count": null,
      "outputs": []
    },
    {
      "cell_type": "markdown",
      "metadata": {
        "id": "OpmwenInevwC"
      },
      "source": [
        "##Lemmatization"
      ]
    },
    {
      "cell_type": "code",
      "metadata": {
        "colab": {
          "base_uri": "https://localhost:8080/",
          "height": 359
        },
        "id": "0zCHJO-NAGr-",
        "outputId": "39827299-1de0-45ea-c62d-84cde4df3516"
      },
      "source": [
        "from nltk.stem import WordNetLemmatizer  \n",
        "lemmatizer = WordNetLemmatizer()\n",
        "\n",
        "for m in range(len(name_list)):\n",
        "  temp1 = []\n",
        "  temp2 = df['Processed_Text'].values[m]\n",
        "  for i in temp2:\n",
        "    temp1.append(lemmatizer.lemmatize(i))\n",
        "  df['Processed_Text'].values[m] = temp1 \n",
        "df.head(len(name_list))"
      ],
      "execution_count": 11,
      "outputs": [
        {
          "output_type": "execute_result",
          "data": {
            "text/html": [
              "<div>\n",
              "<style scoped>\n",
              "    .dataframe tbody tr th:only-of-type {\n",
              "        vertical-align: middle;\n",
              "    }\n",
              "\n",
              "    .dataframe tbody tr th {\n",
              "        vertical-align: top;\n",
              "    }\n",
              "\n",
              "    .dataframe thead th {\n",
              "        text-align: right;\n",
              "    }\n",
              "</style>\n",
              "<table border=\"1\" class=\"dataframe\">\n",
              "  <thead>\n",
              "    <tr style=\"text-align: right;\">\n",
              "      <th></th>\n",
              "      <th>Raw_Text</th>\n",
              "      <th>Processed_Text</th>\n",
              "    </tr>\n",
              "  </thead>\n",
              "  <tbody>\n",
              "    <tr>\n",
              "      <th>0</th>\n",
              "      <td>{\"Text\": \"\\nNBA | Wall makes Rockets debut in ...</td>\n",
              "      <td>[NBA, Wall, make, Rockets, debut, win, Kings, ...</td>\n",
              "    </tr>\n",
              "    <tr>\n",
              "      <th>1</th>\n",
              "      <td>{\"Text\": \"\\nDecisive, Glorious Land, King T\\u2...</td>\n",
              "      <td>[Decisive, Glorious, Land, King, Chala, Cape, ...</td>\n",
              "    </tr>\n",
              "    <tr>\n",
              "      <th>2</th>\n",
              "      <td>{\"Text\": \"\\nBorn Queen takes South India Oaks ...</td>\n",
              "      <td>[Born, Queen, take, South, India, Oaks, style,...</td>\n",
              "    </tr>\n",
              "    <tr>\n",
              "      <th>3</th>\n",
              "      <td>{\"Text\": \"\\nIndiGo servers hacked in December;...</td>\n",
              "      <td>[IndiGo, server, hacked, December, internal, d...</td>\n",
              "    </tr>\n",
              "    <tr>\n",
              "      <th>4</th>\n",
              "      <td>{\"Text\": \"\\nSony to launch PlayStation 5 in In...</td>\n",
              "      <td>[Sony, launch, PlayStation, India, February, P...</td>\n",
              "    </tr>\n",
              "    <tr>\n",
              "      <th>5</th>\n",
              "      <td>{\"Text\": \"\\nApple removes 39,000 game apps fro...</td>\n",
              "      <td>[Apple, remove, game, apps, China, store, meet...</td>\n",
              "    </tr>\n",
              "    <tr>\n",
              "      <th>6</th>\n",
              "      <td>{\"Text\": \"\\nMicrosoft says hackers viewed sour...</td>\n",
              "      <td>[Microsoft, say, hacker, viewed, source, code,...</td>\n",
              "    </tr>\n",
              "    <tr>\n",
              "      <th>7</th>\n",
              "      <td>{\"Text\": \"\\nTop news of the day: India may app...</td>\n",
              "      <td>[day, India, approve, Covishield, emergency, u...</td>\n",
              "    </tr>\n",
              "    <tr>\n",
              "      <th>8</th>\n",
              "      <td>{\"Text\": \"\\nAlgerian president signs new const...</td>\n",
              "      <td>[Algerian, president, sign, new, constitution,...</td>\n",
              "    </tr>\n",
              "    <tr>\n",
              "      <th>9</th>\n",
              "      <td>{\"Text\": \"\\nDelay sought in ex-officers\\u2019 ...</td>\n",
              "      <td>[Delay, sought, ex, officer, trial, George, Fl...</td>\n",
              "    </tr>\n",
              "  </tbody>\n",
              "</table>\n",
              "</div>"
            ],
            "text/plain": [
              "                                            Raw_Text                                     Processed_Text\n",
              "0  {\"Text\": \"\\nNBA | Wall makes Rockets debut in ...  [NBA, Wall, make, Rockets, debut, win, Kings, ...\n",
              "1  {\"Text\": \"\\nDecisive, Glorious Land, King T\\u2...  [Decisive, Glorious, Land, King, Chala, Cape, ...\n",
              "2  {\"Text\": \"\\nBorn Queen takes South India Oaks ...  [Born, Queen, take, South, India, Oaks, style,...\n",
              "3  {\"Text\": \"\\nIndiGo servers hacked in December;...  [IndiGo, server, hacked, December, internal, d...\n",
              "4  {\"Text\": \"\\nSony to launch PlayStation 5 in In...  [Sony, launch, PlayStation, India, February, P...\n",
              "5  {\"Text\": \"\\nApple removes 39,000 game apps fro...  [Apple, remove, game, apps, China, store, meet...\n",
              "6  {\"Text\": \"\\nMicrosoft says hackers viewed sour...  [Microsoft, say, hacker, viewed, source, code,...\n",
              "7  {\"Text\": \"\\nTop news of the day: India may app...  [day, India, approve, Covishield, emergency, u...\n",
              "8  {\"Text\": \"\\nAlgerian president signs new const...  [Algerian, president, sign, new, constitution,...\n",
              "9  {\"Text\": \"\\nDelay sought in ex-officers\\u2019 ...  [Delay, sought, ex, officer, trial, George, Fl..."
            ]
          },
          "metadata": {
            "tags": []
          },
          "execution_count": 11
        }
      ]
    },
    {
      "cell_type": "markdown",
      "metadata": {
        "id": "0BaV0SeofUu6"
      },
      "source": [
        "##Bigram Formation"
      ]
    },
    {
      "cell_type": "code",
      "metadata": {
        "id": "QLN8PYzb8e-q"
      },
      "source": [
        "from gensim.models import Phrases\n",
        "from gensim.models.phrases import Phraser\n",
        "\n",
        "#Appending all text lists into a single list-of-lists\n",
        "sentence_stream = []\n",
        "for i in range(len(name_list)):\n",
        "  sentence_stream.append(df['Processed_Text'].values[i])\n",
        "\n",
        "#Creating a bigram model\n",
        "bigram = Phrases(sentence_stream, min_count=2, threshold=5, delimiter=b' ')\n",
        "\n",
        "#Training the model\n",
        "bigram_phraser = Phraser(bigram)\n",
        "\n",
        "#Applying the model in each corpus\n",
        "tokens= []\n",
        "for x in sentence_stream:\n",
        "  tokens.append(bigram_phraser[x])\n"
      ],
      "execution_count": null,
      "outputs": []
    },
    {
      "cell_type": "code",
      "metadata": {
        "colab": {
          "base_uri": "https://localhost:8080/"
        },
        "id": "Z7EMrrcegMch",
        "outputId": "d9a72d22-ff25-41e0-8f07-a01b4dafdcfb"
      },
      "source": [
        "#Checking to see the bigrams formed\n",
        "\n",
        "for i in range(len(name_list)):\n",
        "  print(tokens[i])"
      ],
      "execution_count": 16,
      "outputs": [
        {
          "output_type": "stream",
          "text": [
            "['NBA', 'Wall', 'make', 'Rockets', 'debut', 'win', 'Kings', 'Raptors', 'end', 'worst', 'start', 'season', 'year', 'defeat', 'New', 'York', 'Knicks', 'bang', 'Houston Rockets', 'guard', 'John', 'Wall', 'return', 'action', 'count', 'Sacramento Kings', 'Richard', 'Carson', 'James', 'Harden', 'scored', 'game', 'high', 'point', 'John', 'Wall', 'finished', 'double', 'double', 'game', 'Houston Rockets', 'beat', 'Sacramento Kings', 'Thursday', 'Wall', 'tallied', 'point', 'assist', 'Rockets', 'playing', 'game', 'DeMarcus', 'Cousins', 'Eric', 'Gordon', 'Wall', 'acquired', 'Washington', 'Wizards', 'Russell', 'Westbrook', 'Harden', 'sank', 'free', 'throw', 'late', 'game', 'Rockets', 'held', 'win', 'Kings', 'chance', 'tie', 'missed', 'three', 'final', 'second', 'crowd', 'Texas', 'Harden', 'assist', 'rebound', 'game', 'game', 'set', 'Kings', 'Joel', 'Embiid', 'delivered', 'point', 'rebound', 'Philadelphia', 'er', 'sank', 'pointer', 'hand', 'Orlando', 'Magic', 'loss', 'new', 'season', 'win', 'Embiid', 'scored', 'point', 'quarter', 'Sixers', 'sank', 'attempt', 'point', 'range', 'fan', 'Amway', 'Center', 'Orlando', 'Toronto', 'Raptors', 'posted', 'win', 'season', 'putting', 'halt', 'worst', 'start', 'year', 'result', 'Indiana', 'Pacers', 'bt', 'Cleveland', 'Cavaliers', 'Washington', 'Wizards', 'lost', 'Chicago', 'Bulls', 'Orlando', 'Magic', 'lost', 'Philadelphia', 'er', 'Houston Rockets', 'bt', 'Sacramento Kings', 'Toronto', 'Raptors', 'bt', 'New', 'York', 'Knicks', 'sport', 'sport', 'nba', 'wall', 'make', 'rocket', 'debut', 'win', 'king']\n",
            "['Decisive', 'Glorious Land', 'King Chala', 'Cape Cod', 'work', 'Decisive', 'Glorious Land', 'King Chala', 'Cape Cod', 'worked', 'horse', 'exercised', 'Friday', 'January', 'Fashion', 'Stars', 'App', 'Sovereign', 'Power', 'App', 'easy', 'Romantic', 'Bay', 'K', 'V', 'Baskar', 'Empress', 'Andromeda', 'Sky', 'app', 'finished', 'Tifosi', 'Maintains', 'form', 'Silverman', 'Ayaz', 'Khan', 'Hadar', 'Alam', 'moved', 'better', 'finished', 'Merrywin', 'Cape Cod', 'N', 'Murugan', 'impressed', 'Naomi', 'Azad', 'Alam', 'Green', 'Channel', 'App', 'Kingoftheworld', 'N', 'Murugan', 'Fully', 'eased', 'Glorious Land', 'Alam', 'fine', 'nick', 'King Chala', 'Azfar Syeed', 'Moved', 'Amendment', 'Annexed', 'Iltaf', 'Hussain', 'moved', 'freely', 'Knight', 'Envied', 'Emelda', 'good', 'shape', 'Decisive', 'Shahar', 'Babu', 'Pleased', 'Wild', 'Passion', 'App', 'Optimus', 'Commander', 'Janardhan', 'P', 'Maidstone', 'Kamigallu', 'Supreme', 'Excelsior', 'Battista', 'Rajendra', 'Singh', 'moved', 'bit', 'Exquisite', 'Star', 'Prince', 'Windsor', 'App', 'easily', 'finished', 'length', 'ahead', 'Mock', 'race', 'Mzilikazi', 'Nakhat Singh', 'Nekhbet', 'Rajendra', 'Singh', 'Towns', 'End', 'Azfar Syeed', 'Talan', 'Farhan', 'Mzilikazi', 'Nekhbet', 'impressed', 'sport', 'race', 'decisive', 'glorious', 'land', 'king', 'tchala', 'cape', 'cod', 'work']\n",
            "['Born Queen', 'take', 'South India', 'Oaks', 'style', 'Rewarding', 'excellence', 'Jockey', 'Suraj Narredu', 'left', 'trainer', 'Narredu', 'receiving', 'South India', 'Oaks', 'trophy', 'Madras', 'Race', 'Club', 'chairman', 'R', 'Muthiah', 'Born Queen', 'Suraj Narredu', 'astride', 'won', 'South India', 'Oaks', 'feature', 'event', 'race', 'held', 'Friday', 'January', 'winner', 'trained', 'Narredu', 'property', 'United', 'Racing', 'Bloodstock', 'Breeders', 'Born Queen', 'handy', 'fifth', 'final', 'bend', 'Suraj', 'rode', 'judged', 'race', 'straight', 'filly', 'claimed', 'South India', 'Guineas', 'accelerated', 'tremendously', 'reminder', 'near', 'mark', 'went', 'clear', 'register', 'fourth', 'win', 'complete', 'Classic', 'double', 'K', 'BALARAMA', 'DAS', 'MEMORIAL', 'CUP', 'maiden', 'y o', 'Terms', 'LADY', 'SOLITAIRE', 'Nakhat Singh', 'Bolivia', 'Umesh', 'Sweet', 'Fragrance', 'Irvan', 'Singh', 'Whistle', 'Podu', 'P Sai', 'Kumar', 'Owner', 'Ramaswamy', 'Chettiar', 'Chettinad', 'Charitable', 'Trust', 'Trainer', 'R', 'Foley', 'CANTERBURY', 'PARK', 'PLATE', 'y o', 'rated', 'EYES', 'FALCON', 'Zervan', 'Parrys', 'Glory', 'Ayaz', 'Khan', 'Star', 'Convey', 'Iltaf', 'Hussain', 'Bloom', 'Brisson', 'run', 'Tigress', 'Paw', 'Shd', 'Owners Mr', 'Kishore', 'Futnani', 'Mr', 'Chirag', 'Joshi', 'Trainer', 'K', 'Futnani', 'DOUBLE', 'QUITS', 'PLATE rated', 'BLUE', 'PATENT', 'P', 'Trevor', 'Catalyst', 'Shahar', 'Babu', 'Betty', 'Boop', 'Azfar Syeed', 'Beautiful', 'Princess', 'P Sai', 'Kumar', 'shd', 'Owners Mr', 'Saif', 'Hoosein', 'Nensey', 'Mrs', 'Nissa', 'Hoosein', 'Nensey', 'Mr', 'Husain', 'Sultan', 'Ali', 'Nensey', 'Trainer', 'Sebastian', 'G', 'KASTURI', 'MEMORIAL', 'TROPHY', 'rated', 'ROYAL', 'CURRENCY', 'Brisson', 'Durango', 'Irvan', 'Singh', 'Sentosa', 'Azfar Syeed', 'Semele', 'Zervan', 'Owner', 'Ramaswamy', 'Chettiar', 'Chettinad', 'Charitable', 'Trust', 'Trainer', 'Suresh', 'SOUTH', 'INDIA', 'OAKS', 'y o', 'Indian', 'Fillies', 'Terms', 'BORN', 'QUEEN', 'Tazahum', 'State', 'Secret', 'Suraj Narredu', 'SUCCESSOR', 'Litir', 'Mor', 'Sweeping', 'Success', 'P', 'Trevor', 'BISATE', 'Western', 'Aristocrate', 'Verbier', 'Zervan', 'LUMINOUS', 'Speaking', 'Allaire', 'Akshay', 'Kumar', 'nose', 'Owner', 'United', 'Racing', 'Bloodstock', 'Breeders', 'Trainer', 'Narredu', 'SCARFACE', 'PLATE rated', 'PENANG', 'P Sai', 'Kumar', 'Torbert', 'Umesh', 'Demerara', 'Azfar Syeed', 'Passion', 'Akshay', 'Kumar', 'run', 'Pacific', 'Dunes', 'lnk', 'Owners Mr', 'K', 'R', 'Muthukaruppan', 'Mr', 'V', 'Gopal', 'Trainer', 'Mandanna', 'SOUTHERN', 'REGENT', 'PLATE rated', 'DESERT', 'FORCE', 'C', 'P', 'Khanal', 'Radical', 'Review', 'Suraj Narredu', 'Sanctuary', 'Cove', 'P', 'Ajeeth', 'Kumar', 'Illustrious', 'Ruler', 'Nakhat Singh', 'Owner', 'Mr', 'C', 'Muthiah', 'Trainer', 'Suresh', 'sport', 'race', 'born', 'queen', 'take', 'south', 'india', 'oak', 'style']\n",
            "['IndiGo', 'server hacked', 'December', 'internal document', 'uploaded', 'publicly', 'India', 'largest', 'airline', 'statement', 'stock', 'exchange', 'said', 'determining', 'extent', 'data', 'breach', 'approached', 'police', 'issue', 'IndiGo', 'say', 'server hacked', 'earlier', 'December', 'Reuters', 'Today Cache', 'newsletter quick', 'snapshot tech', 'story free', 'IndiGo', 'Thursday', 'said', 'server hacked', 'earlier', 'December', 'possibly', 'internal document', 'uploaded', 'hacker', 'public', 'website', 'platform', 'India', 'largest', 'airline', 'statement', 'stock', 'exchange', 'said', 'determining', 'extent', 'data', 'breach', 'approached', 'police', 'issue', 'like', 'disclosure', 'server', 'subject', 'hacking', 'incident', 'earlier', 'month', 'IndiGo', 'said', 'company said', 'able', 'restore', 'system', 'short', 'span', 'time', 'minimal', 'impact', 'warned', 'segment', 'data', 'breached', 'hacker', 'upload', 'internal document', 'publicly', 'realise', 'seriousness', 'issue', 'continuing', 'engage', 'relevant', 'expert', 'law', 'enforcement', 'ensure', 'incident', 'investigated', 'detail', 'IndiGo', 'said', 'announcement', 'come', 'airline', 'planning', 'return', 'pre', 'COVID', 'level', 'January', 'February', 'domestic', 'market', 'sci tech', 'technology', 'indigo', 'server hacked', 'december', 'internal document', 'uploaded', 'publicly']\n",
            "['Sony', 'launch', 'PlayStation', 'India', 'February', 'Pre', 'order', 'PS', 'begin', 'January', 'Sony', 'Corp', 'said', 'Friday', 'PlayStation', 'PS', 'console', 'launched', 'India', 'coming', 'week', 'try', 'capitalise', 'pandemic', 'driven', 'boom', 'gaming', 'happy', 'announce', 'PS', 'shall', 'launched', 'India', 'nd', 'February', 'Japanese', 'firm', 'tweeted', 'PlayStation', 'India', 'Twitter', 'handle', 'Pre', 'order', 'PS', 'begin', 'January', 'available', 'order', 'major', 'retailer', 'including', 'Amazon', 'Flipkart', 'tech', 'firm', 'said', 'Microsoft', 'Corp', 'launched', 'model', 'Xbox', 'gaming', 'console', 'November', 'seven', 'year', 'debut', 'previous', 'Sony', 'launched', 'PS', 'core', 'market', 'day', 'later', 'sci tech', 'technology', 'sony', 'launch', 'playstation', 'india', 'february']\n",
            "['Apple', 'remove', 'game apps', 'China', 'store', 'meet', 'deadline', 'China', 'Android', 'app', 'store', 'long', 'complied', 'regulation', 'licence', 'clear', 'Apple', 'enforcing', 'strictly', 'year', 'Games', 'affected', 'sweep', 'included', 'Ubisoft', 'title', 'Assassin', 'Creed', 'Identity', 'NBAK', 'according', 'research', 'firm', 'Qimai', 'Reuters', 'Today Cache', 'newsletter quick', 'snapshot tech', 'story free', 'Apple', 'removed', 'game apps', 'China', 'store', 'Thursday', 'biggest', 'removal', 'single', 'day', 'set', 'year', 'end', 'deadline', 'game', 'publisher', 'obtain', 'license', 'takedown', 'come', 'amid', 'crackdown', 'unlicensed', 'game', 'Chinese', 'authority', 'Including', 'game', 'Apple', 'removed', 'apps', 'total', 'store', 'Thursday', 'Games', 'affected', 'sweep', 'included', 'Ubisoft', 'title', 'Assassin', 'Creed', 'Identity', 'NBAK', 'according', 'research', 'firm', 'Qimai', 'Qimai', 'said', 'paid', 'game', 'Apple', 'store', 'survived', 'purge', 'Apple', 'immediately', 'respond', 'request', 'comment', 'Read', 'look', 'Apple', 'high', 'low', 'point', 'Apple', 'initially', 'gave', 'game', 'publisher', 'end', 'June', 'deadline', 'submit', 'government', 'issued', 'licence', 'number', 'enabling', 'user', 'app', 'purchase', 'world', 'biggest', 'game', 'market', 'Apple', 'later', 'extended', 'deadline', 'Dec', 'China', 'Android', 'app', 'store', 'long', 'complied', 'regulation', 'licence', 'clear', 'Apple', 'enforcing', 'strictly', 'year', 'Analysts', 'said', 'surprise', 'Apple', 'continues', 'close', 'loophole', 'fall', 'line', 'China', 'content', 'regulator', 'directly', 'affect', 'Apple', 'line', 'previous', 'removal', 'major', 'pivot', 'accepting', 'paid', 'game', 'game', 'licence', 'coupled', 'China', 'extremely', 'low', 'number', 'foreign', 'game', 'licence', 'approved', 'year', 'probably', 'lead', 'game', 'developer', 'switch', 'ad', 'supported', 'model', 'Chinese', 'version', 'said', 'Todd', 'Kuhns', 'marketing', 'manager', 'AppInChina', 'firm', 'help', 'overseas', 'company', 'distribute', 'apps', 'sci tech', 'technology', 'apple', 'remove', 'game apps', 'china', 'store']\n",
            "['Microsoft', 'say', 'hacker', 'viewed', 'source', 'code', 'didn', 'change', 'company said', 'found', 'evidence', 'hacker', 'access', 'customer', 'data', 'indication', 'system', 'attack', 'Microsoft said', 'attacker', 'spearheaded', 'massive', 'hack', 'government', 'private', 'computer', 'network', 'gained', 'access', 'internal', 'csource', 'code', 'key', 'building', 'block', 'software', 'company', 'downplayed', 'risk', 'File', 'representation', 'AP', 'Today Cache', 'newsletter quick', 'snapshot tech', 'story free', 'Microsoft said', 'Thursday', 'blog', 'post', 'hacker', 'tied', 'massive', 'intrusion', 'dozen', 'U', 'government', 'agency', 'private', 'company', 'snuck', 'farther', 'system', 'previously', 'thought', 'intrusion', 'doesn', 'appear', 'caused', 'additional', 'harm', 'company said', 'hacker', 'able', 'view', 'code', 'underlying', 'Microsoft', 'software', 'weren', 'able', 'change', 'Microsoft', 'played', 'risk', 'associated', 'additional', 'intrusion', 'noting', 'software', 'development', 'relies', 'code', 'sharing', 'company', 'practice', 'called', 'cinner', 'source', 'dLikewise', 'Microsoft said', 'doesn', 'rely', 'keeping', 'programme', 'code', 'secret', 'security', 'measure', 'instead', 'assumes', 'adversary', 'seen', 'code', 'us', 'defensive', 'measure', 'frustrate', 'attack', 'company said', 'found', 'evidence', 'hacker', 'access', 'customer', 'data', 'indication', 'system', 'attack', 'hack', 'began', 'early', 'March', 'malicious', 'code', 'snuck', 'update', 'SolarWinds', 'software', 'monitor', 'computer', 'network', 'Microsoft', 'helped', 'respond', 'breach', 'cybersecurity', 'firm', 'FireEye', 'discovered', 'hack', 'security', 'firm', 'targeted', 'Cybersecurity', 'expert', 'U', 'official', 'suspect', 'Russia', 'hack', 'infiltrated', 'federal', 'agency', 'including', 'department', 'Treasury', 'Energy', 'Commerce', 'government', 'contractor', 'Russia', 'denied', 'blame', 'sci tech', 'technology', 'microsoft', 'say', 'hacker', 'viewed', 'source', 'code', 'nt', 'change']\n",
            "['day', 'India', 'approve', 'Covishield', 'emergency', 'use', 'New', 'Delhi', 'seek', 'help', 'rescue', 'sailor', 'stranded', 'Chinese', 'water', 'major', 'headline', 'day', 'Vials', 'COVID', 'vaccine', 'COVISHIELD', 'seen', 'inside', 'visual', 'inspection', 'machine', 'inside', 'lab', 'Serum', 'Institute', 'India', 'Pune', 'File', 'Reuters', 'DCGI', 'Subject', 'Expert', 'Committee', 'reviewing', 'application', 'Bharat', 'Biotech', 'vaccine', 'candidate', 'Covaxin', 'country', 'drug', 'regulatory', 'agency', 'issue', 'approval', 'COVID', 'vaccine', 'country', 'weak', 'system', 'usually', 'rely', 'vet', 'shot', 'priority', 'list', 'health', 'worker', 'created', 'uploaded', 'COVID', 'platform', 'preparation', 'COVID', 'vaccination', 'expect', 'assistance', 'provided', 'urgent', 'practical', 'time', 'bound', 'manner', 'given', 'grave', 'humanitarian', 'situation', 'developing', 'onboard', 'ship', 'Ministry', 'External', 'Affairs', 'said', 'Government', 'repeal', 'law', 'battle', 'ego', 'say', 'union', 'leader', 'house', 'location', 'constructed', 'year', 'Congress', 'led', 'UDF', 'came', 'second', 'LDF', 'recent', 'local', 'body', 'poll', 'CBI', 'Director', 'Rishi', 'Kumar', 'Shukla', 'emphasis', 'need', 'official', 'updated', 'latest', 'tool', 'investigation', 'sustained', 'training', 'India', 'sit', 'nation', 'UNSC', 'term', 'non', 'permanent', 'member', 'eighth', 'time', 'country', 'seat', 'powerful', 'horseshoe', 'table', 'Pakistan', 'handed', 'list', 'Indian', 'prisoner', 'including', 'civil', 'fisherman', 'lodged', 'country', 'jail', 'High', 'Commission', 'India', 'bilateral', 'agreement', 'Reciprocally', 'Indian', 'government', 'simultaneously', 'shared', 'list', 'Pakistani', 'prisoner', 'India', 'including', 'civilian', 'fisherman', 'High', 'Commission', 'Pakistan', 'New', 'Delhi', 'Globally', 'half', 'birth', 'estimated', 'place', 'country', 'according', 'press', 'statement', 'UNICEF', 'second', 'line', 'anthem', 'Advance', 'Australia', 'Fair', 'changed', 'cFor', 'young', 'free', 'cFor', 'free', 'dAmong', 'major', 'Sensex', 'gainer', 'ITC', 'rose', 'total', 'number', 'GSTR', 'Returns', 'filed', 'month', 'November', 'December', 'lakh', 'India', 'tour', 'Australia', 'Shami', 'Umesh', 'Yadav', 'head', 'National', 'Cricket', 'Academy', 'Bengaluru', 'rehabilitation', 'injury', 'day', 'january', 'india', 'approve', 'covishield', 'emergency', 'use', 'new', 'delhi', 'seek', 'help', 'rescue', 'sailor', 'stranded', 'chinese', 'water']\n",
            "['Algerian', 'president', 'sign', 'new constitution', 'law', 'President', 'Abdelmadjid', 'Tebboune', 'returned', 'Algeria', 'week', 'month', 'Germany', 'promoted', 'new constitution', 'ccornerstone', 'new', 'Algeria', 'Algeria', 'president', 'Friday', 'signed', 'country', 'new constitution', 'law', 'office', 'said', 'document', 'approved', 'November', 'referendum', 'record', 'low', 'turnout', 'leader', 'received', 'treatment', 'abroad', 'Covid', 'President', 'Abdelmadjid', 'Tebboune', 'returned', 'Algeria', 'week', 'month', 'Germany', 'promoted', 'new constitution', 'ccornerstone', 'new', 'Algeria', 'sought', 'turn', 'page', 'long', 'running', 'Hirak', 'mass', 'protest', 'movement', 'document', 'received', 'backing', 'electorate', 'November', 'vote', 'overshadowed', 'novel', 'coronavirus', 'pandemic', 'following', 'Hirak', 'call', 'boycott', 'Hirak', 'launched', 'vast', 'street', 'demonstration', 'early', 'oppose', 'president', 'Abdelaziz', 'Bouteflika', 'bid', 'fifth', 'term', 'office', 'Following', 'resignation', 'April', 'Hirak', 'kept', 'pressure', 'demand', 'overhaul', 'ruling', 'system', 'place', 'North', 'African', 'country', 'independence', 'France', 'new constitution', 'pitched', 'responding', 'demand', 'Hirak', 'keep', 'place', 'Algeria', 'presidential', 'regime', 'expands', 'power', 'army', 'central', 'pillar', 'state', 'Tebboune', 'Thursday', 'approved', 'Algeria', 'budget', 'hoping', 'launch', 'vaccination', 'campaign', 'novel', 'coronavirus', 'Sputnik', 'V', 'jab', 'produced', 'Russian', 'ally', 'early', 'month', 'international', 'algerian', 'president', 'sign', 'new constitution', 'law']\n",
            "['Delay', 'sought', 'ex', 'officer', 'trial', 'George', 'Floyd', 'death', 'trial', 'scheduled', 'March', 'fired', 'police', 'officer charged', 'death', 'Floyd', 'Prosecutors', 'case', 'Minneapolis', 'officer charged', 'death', 'George', 'Floyd', 'requested', 'trial', 'delayed', 'month', 'Star', 'Tribune', 'report', 'prosecutor', 'cited', 'COVID', 'pandemic', 'time', 'needed', 'people', 'vaccinated', 'health', 'risk', 'sufficiently', 'diminished', 'trial', 'scheduled', 'March', 'fired', 'police', 'officer charged', 'death', 'Floyd', 'forcibly', 'detained', 'south', 'Minneapolis', 'street', 'corner', 'motion', 'prosecution', 'argued', 'putting', 'trial', 'June', 'cappropriately', 'balance', 'need', 'protect', 'public', 'health', 'need', 'ensure', 'case', 'resolved', 'expeditiously', 'Derek', 'Chauvin', 'Tou', 'Thao', 'J', 'Alexander', 'Kueng', 'Thomas', 'Lane', 'scheduled', 'tried', 'Chauvin', 'charged', 'second', 'degree', 'murder', 'manslaughter', 'charged', 'aiding', 'abetting', 'murder', 'manslaughter', 'Chauvin', 'attorney', 'Eric', 'Nelson', 'said', 'doesn', 'intend', 'object', 'prosecution', 'seeking', 'delay', 'trial', 'Kueng', 'attorney', 'Thomas', 'Plunkett', 'said', 'prosecution', 'motion', 'pointing', 'COVID', 'puzzling', 'cThe', 'timing', 'motion', 'curious', 'Plunkett', 'said', 'cThe', 'pandemic', 'dThao', 'lawyer', 'Robert', 'Paule', 'immediately', 'respond', 'request', 'comment', 'international', 'delay', 'sought', 'ex', 'officer', 'trial', 'george', 'floyds', 'death']\n"
          ],
          "name": "stdout"
        }
      ]
    },
    {
      "cell_type": "code",
      "metadata": {
        "id": "4O164hz3CQrD"
      },
      "source": [
        "#Updating the Processed_Text values in the Data Frame\n",
        "\n",
        "for i in range(len(name_list)):\n",
        "  df['Processed_Text'].values[i] = tokens[i]"
      ],
      "execution_count": 13,
      "outputs": []
    },
    {
      "cell_type": "markdown",
      "metadata": {
        "id": "RTHvAuaigXi5"
      },
      "source": [
        "##Final Output: Clean text ready for Topic Modelling"
      ]
    },
    {
      "cell_type": "code",
      "metadata": {
        "colab": {
          "base_uri": "https://localhost:8080/",
          "height": 359
        },
        "id": "xpRJfYvHCzAY",
        "outputId": "b5cb94b0-8f64-462c-bfda-acf7c7cf6a23"
      },
      "source": [
        "df.head(len(name_list))"
      ],
      "execution_count": 15,
      "outputs": [
        {
          "output_type": "execute_result",
          "data": {
            "text/html": [
              "<div>\n",
              "<style scoped>\n",
              "    .dataframe tbody tr th:only-of-type {\n",
              "        vertical-align: middle;\n",
              "    }\n",
              "\n",
              "    .dataframe tbody tr th {\n",
              "        vertical-align: top;\n",
              "    }\n",
              "\n",
              "    .dataframe thead th {\n",
              "        text-align: right;\n",
              "    }\n",
              "</style>\n",
              "<table border=\"1\" class=\"dataframe\">\n",
              "  <thead>\n",
              "    <tr style=\"text-align: right;\">\n",
              "      <th></th>\n",
              "      <th>Raw_Text</th>\n",
              "      <th>Processed_Text</th>\n",
              "    </tr>\n",
              "  </thead>\n",
              "  <tbody>\n",
              "    <tr>\n",
              "      <th>0</th>\n",
              "      <td>{\"Text\": \"\\nNBA | Wall makes Rockets debut in ...</td>\n",
              "      <td>[NBA, Wall, make, Rockets, debut, win, Kings, ...</td>\n",
              "    </tr>\n",
              "    <tr>\n",
              "      <th>1</th>\n",
              "      <td>{\"Text\": \"\\nDecisive, Glorious Land, King T\\u2...</td>\n",
              "      <td>[Decisive, Glorious Land, King Chala, Cape Cod...</td>\n",
              "    </tr>\n",
              "    <tr>\n",
              "      <th>2</th>\n",
              "      <td>{\"Text\": \"\\nBorn Queen takes South India Oaks ...</td>\n",
              "      <td>[Born Queen, take, South India, Oaks, style, R...</td>\n",
              "    </tr>\n",
              "    <tr>\n",
              "      <th>3</th>\n",
              "      <td>{\"Text\": \"\\nIndiGo servers hacked in December;...</td>\n",
              "      <td>[IndiGo, server hacked, December, internal doc...</td>\n",
              "    </tr>\n",
              "    <tr>\n",
              "      <th>4</th>\n",
              "      <td>{\"Text\": \"\\nSony to launch PlayStation 5 in In...</td>\n",
              "      <td>[Sony, launch, PlayStation, India, February, P...</td>\n",
              "    </tr>\n",
              "    <tr>\n",
              "      <th>5</th>\n",
              "      <td>{\"Text\": \"\\nApple removes 39,000 game apps fro...</td>\n",
              "      <td>[Apple, remove, game apps, China, store, meet,...</td>\n",
              "    </tr>\n",
              "    <tr>\n",
              "      <th>6</th>\n",
              "      <td>{\"Text\": \"\\nMicrosoft says hackers viewed sour...</td>\n",
              "      <td>[Microsoft, say, hacker, viewed, source, code,...</td>\n",
              "    </tr>\n",
              "    <tr>\n",
              "      <th>7</th>\n",
              "      <td>{\"Text\": \"\\nTop news of the day: India may app...</td>\n",
              "      <td>[day, India, approve, Covishield, emergency, u...</td>\n",
              "    </tr>\n",
              "    <tr>\n",
              "      <th>8</th>\n",
              "      <td>{\"Text\": \"\\nAlgerian president signs new const...</td>\n",
              "      <td>[Algerian, president, sign, new constitution, ...</td>\n",
              "    </tr>\n",
              "    <tr>\n",
              "      <th>9</th>\n",
              "      <td>{\"Text\": \"\\nDelay sought in ex-officers\\u2019 ...</td>\n",
              "      <td>[Delay, sought, ex, officer, trial, George, Fl...</td>\n",
              "    </tr>\n",
              "  </tbody>\n",
              "</table>\n",
              "</div>"
            ],
            "text/plain": [
              "                                            Raw_Text                                     Processed_Text\n",
              "0  {\"Text\": \"\\nNBA | Wall makes Rockets debut in ...  [NBA, Wall, make, Rockets, debut, win, Kings, ...\n",
              "1  {\"Text\": \"\\nDecisive, Glorious Land, King T\\u2...  [Decisive, Glorious Land, King Chala, Cape Cod...\n",
              "2  {\"Text\": \"\\nBorn Queen takes South India Oaks ...  [Born Queen, take, South India, Oaks, style, R...\n",
              "3  {\"Text\": \"\\nIndiGo servers hacked in December;...  [IndiGo, server hacked, December, internal doc...\n",
              "4  {\"Text\": \"\\nSony to launch PlayStation 5 in In...  [Sony, launch, PlayStation, India, February, P...\n",
              "5  {\"Text\": \"\\nApple removes 39,000 game apps fro...  [Apple, remove, game apps, China, store, meet,...\n",
              "6  {\"Text\": \"\\nMicrosoft says hackers viewed sour...  [Microsoft, say, hacker, viewed, source, code,...\n",
              "7  {\"Text\": \"\\nTop news of the day: India may app...  [day, India, approve, Covishield, emergency, u...\n",
              "8  {\"Text\": \"\\nAlgerian president signs new const...  [Algerian, president, sign, new constitution, ...\n",
              "9  {\"Text\": \"\\nDelay sought in ex-officers\\u2019 ...  [Delay, sought, ex, officer, trial, George, Fl..."
            ]
          },
          "metadata": {
            "tags": []
          },
          "execution_count": 15
        }
      ]
    }
  ]
}